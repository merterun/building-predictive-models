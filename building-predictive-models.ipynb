{
 "cells": [
  {
   "attachments": {},
   "cell_type": "markdown",
   "id": "c6a05f11",
   "metadata": {
    "_execution_state": "idle",
    "_uuid": "051d70d956493feee0c6d64651c6a088724dca2a",
    "papermill": {
     "duration": 0.004118,
     "end_time": "2023-01-21T11:45:04.635755",
     "exception": false,
     "start_time": "2023-01-21T11:45:04.631637",
     "status": "completed"
    },
    "tags": []
   },
   "source": [
    "In this notebook, we will be using the *caret* package to perform k-fold cross-validation on a classification model.\n",
    "\n",
    "First, let's start by installing and loading the necessary libraries: caret. You can do this by running the following code:"
   ]
  },
  {
   "cell_type": "code",
   "execution_count": null,
   "id": "1570a74b",
   "metadata": {
    "execution": {
     "iopub.execute_input": "2023-01-21T11:45:04.646050Z",
     "iopub.status.busy": "2023-01-21T11:45:04.643890Z",
     "iopub.status.idle": "2023-01-21T11:45:08.066045Z",
     "shell.execute_reply": "2023-01-21T11:45:08.064353Z"
    },
    "papermill": {
     "duration": 3.429458,
     "end_time": "2023-01-21T11:45:08.068470",
     "exception": false,
     "start_time": "2023-01-21T11:45:04.639012",
     "status": "completed"
    },
    "tags": []
   },
   "outputs": [],
   "source": [
    "library(caret)\n",
    "library(datasets)"
   ]
  },
  {
   "cell_type": "markdown",
   "id": "ea14b3aa",
   "metadata": {
    "papermill": {
     "duration": 0.003308,
     "end_time": "2023-01-21T11:45:08.075400",
     "exception": false,
     "start_time": "2023-01-21T11:45:08.072092",
     "status": "completed"
    },
    "tags": []
   },
   "source": [
    "Next, we will use the beloved *iris* dataset from the datasets package. You can load this dataset by running the following code:"
   ]
  },
  {
   "cell_type": "code",
   "execution_count": null,
   "id": "5fba7ec4",
   "metadata": {
    "execution": {
     "iopub.execute_input": "2023-01-21T11:45:08.113353Z",
     "iopub.status.busy": "2023-01-21T11:45:08.083500Z",
     "iopub.status.idle": "2023-01-21T11:45:08.130770Z",
     "shell.execute_reply": "2023-01-21T11:45:08.129005Z"
    },
    "papermill": {
     "duration": 0.054439,
     "end_time": "2023-01-21T11:45:08.133147",
     "exception": false,
     "start_time": "2023-01-21T11:45:08.078708",
     "status": "completed"
    },
    "tags": []
   },
   "outputs": [],
   "source": [
    "data(\"iris\")"
   ]
  },
  {
   "cell_type": "markdown",
   "id": "002dedff",
   "metadata": {
    "papermill": {
     "duration": 0.004009,
     "end_time": "2023-01-21T11:45:08.140716",
     "exception": false,
     "start_time": "2023-01-21T11:45:08.136707",
     "status": "completed"
    },
    "tags": []
   },
   "source": [
    "Now, let's create a train and test sets. You can do this by running the following code:"
   ]
  },
  {
   "cell_type": "code",
   "execution_count": null,
   "id": "6fd3f660",
   "metadata": {
    "execution": {
     "iopub.execute_input": "2023-01-21T11:45:08.150546Z",
     "iopub.status.busy": "2023-01-21T11:45:08.149051Z",
     "iopub.status.idle": "2023-01-21T11:45:08.177151Z",
     "shell.execute_reply": "2023-01-21T11:45:08.175539Z"
    },
    "papermill": {
     "duration": 0.035062,
     "end_time": "2023-01-21T11:45:08.179323",
     "exception": false,
     "start_time": "2023-01-21T11:45:08.144261",
     "status": "completed"
    },
    "tags": []
   },
   "outputs": [],
   "source": [
    "# Create the train and test sets\n",
    "set.seed(123)\n",
    "trainIndex <- createDataPartition(y = iris$Species, p = 0.8, list = FALSE)\n",
    "irisTrain <- iris[trainIndex,]\n",
    "irisTest  <- iris[-trainIndex,]"
   ]
  },
  {
   "cell_type": "markdown",
   "id": "d51cf90d",
   "metadata": {
    "papermill": {
     "duration": 0.003254,
     "end_time": "2023-01-21T11:45:08.185940",
     "exception": false,
     "start_time": "2023-01-21T11:45:08.182686",
     "status": "completed"
    },
    "tags": []
   },
   "source": [
    "Now, let's create a model using a decision tree algorithm. You can do this by running the following code:"
   ]
  },
  {
   "cell_type": "code",
   "execution_count": null,
   "id": "663f8753",
   "metadata": {
    "execution": {
     "iopub.execute_input": "2023-01-21T11:45:08.195510Z",
     "iopub.status.busy": "2023-01-21T11:45:08.194044Z",
     "iopub.status.idle": "2023-01-21T11:45:08.825722Z",
     "shell.execute_reply": "2023-01-21T11:45:08.823964Z"
    },
    "papermill": {
     "duration": 0.638965,
     "end_time": "2023-01-21T11:45:08.828111",
     "exception": false,
     "start_time": "2023-01-21T11:45:08.189146",
     "status": "completed"
    },
    "tags": []
   },
   "outputs": [],
   "source": [
    "# Create the model\n",
    "model <- train(Species ~ ., data = irisTrain, method = \"rpart\")"
   ]
  },
  {
   "cell_type": "markdown",
   "id": "e76c8f4c",
   "metadata": {
    "papermill": {
     "duration": 0.003658,
     "end_time": "2023-01-21T11:45:08.835416",
     "exception": false,
     "start_time": "2023-01-21T11:45:08.831758",
     "status": "completed"
    },
    "tags": []
   },
   "source": [
    "Now we can use the caret package k-fold cross-validation function. We will use 10 folds (k = 10), we can run the following code:"
   ]
  },
  {
   "cell_type": "code",
   "execution_count": null,
   "id": "91d28f60",
   "metadata": {
    "execution": {
     "iopub.execute_input": "2023-01-21T11:45:08.844963Z",
     "iopub.status.busy": "2023-01-21T11:45:08.843626Z",
     "iopub.status.idle": "2023-01-21T11:45:09.128657Z",
     "shell.execute_reply": "2023-01-21T11:45:09.126919Z"
    },
    "papermill": {
     "duration": 0.292041,
     "end_time": "2023-01-21T11:45:09.131001",
     "exception": false,
     "start_time": "2023-01-21T11:45:08.838960",
     "status": "completed"
    },
    "tags": []
   },
   "outputs": [],
   "source": [
    "# Perform k-fold cross-validation\n",
    "kfold <- trainControl(method = \"cv\", number = 10)\n",
    "modelCV <- train(Species ~ ., data = irisTrain, method = \"rpart\", trControl = kfold)"
   ]
  },
  {
   "cell_type": "markdown",
   "id": "d5292045",
   "metadata": {
    "papermill": {
     "duration": 0.003578,
     "end_time": "2023-01-21T11:45:09.138065",
     "exception": false,
     "start_time": "2023-01-21T11:45:09.134487",
     "status": "completed"
    },
    "tags": []
   },
   "source": [
    "Now, we can check the accuracy of the model using the following code:"
   ]
  },
  {
   "cell_type": "code",
   "execution_count": null,
   "id": "02f17ea8",
   "metadata": {
    "execution": {
     "iopub.execute_input": "2023-01-21T11:45:09.148389Z",
     "iopub.status.busy": "2023-01-21T11:45:09.146612Z",
     "iopub.status.idle": "2023-01-21T11:45:09.163991Z",
     "shell.execute_reply": "2023-01-21T11:45:09.162283Z"
    },
    "papermill": {
     "duration": 0.025018,
     "end_time": "2023-01-21T11:45:09.166540",
     "exception": false,
     "start_time": "2023-01-21T11:45:09.141522",
     "status": "completed"
    },
    "tags": []
   },
   "outputs": [
    {
     "name": "stdout",
     "output_type": "stream",
     "text": [
      "    cp  Accuracy  Kappa AccuracySD   KappaSD\n",
      "1 0.00 0.9166667 0.8750 0.06804138 0.1020621\n",
      "2 0.45 0.7583333 0.6375 0.12076147 0.1811422\n",
      "3 0.50 0.3333333 0.0000 0.00000000 0.0000000\n"
     ]
    }
   ],
   "source": [
    "# Check the accuracy of the model\n",
    "print(modelCV$results)"
   ]
  },
  {
   "cell_type": "markdown",
   "id": "2f175efa",
   "metadata": {
    "papermill": {
     "duration": 0.003609,
     "end_time": "2023-01-21T11:45:09.174497",
     "exception": false,
     "start_time": "2023-01-21T11:45:09.170888",
     "status": "completed"
    },
    "tags": []
   },
   "source": [
    "The above code will show the mean and standard deviation of the accuracy of the model for each fold.\n",
    "\n",
    "Now, we can use the predict function to predict the test set and check the accuracy of the model using the following code:"
   ]
  },
  {
   "cell_type": "code",
   "execution_count": null,
   "id": "62cf3e98",
   "metadata": {
    "execution": {
     "iopub.execute_input": "2023-01-21T11:45:09.184368Z",
     "iopub.status.busy": "2023-01-21T11:45:09.183014Z",
     "iopub.status.idle": "2023-01-21T11:45:09.219875Z",
     "shell.execute_reply": "2023-01-21T11:45:09.218299Z"
    },
    "papermill": {
     "duration": 0.044104,
     "end_time": "2023-01-21T11:45:09.222122",
     "exception": false,
     "start_time": "2023-01-21T11:45:09.178018",
     "status": "completed"
    },
    "tags": []
   },
   "outputs": [
    {
     "data": {
      "text/plain": [
       "Confusion Matrix and Statistics\n",
       "\n",
       "            Reference\n",
       "Prediction   setosa versicolor virginica\n",
       "  setosa         10          0         0\n",
       "  versicolor      0         10         2\n",
       "  virginica       0          0         8\n",
       "\n",
       "Overall Statistics\n",
       "                                          \n",
       "               Accuracy : 0.9333          \n",
       "                 95% CI : (0.7793, 0.9918)\n",
       "    No Information Rate : 0.3333          \n",
       "    P-Value [Acc > NIR] : 8.747e-12       \n",
       "                                          \n",
       "                  Kappa : 0.9             \n",
       "                                          \n",
       " Mcnemar's Test P-Value : NA              \n",
       "\n",
       "Statistics by Class:\n",
       "\n",
       "                     Class: setosa Class: versicolor Class: virginica\n",
       "Sensitivity                 1.0000            1.0000           0.8000\n",
       "Specificity                 1.0000            0.9000           1.0000\n",
       "Pos Pred Value              1.0000            0.8333           1.0000\n",
       "Neg Pred Value              1.0000            1.0000           0.9091\n",
       "Prevalence                  0.3333            0.3333           0.3333\n",
       "Detection Rate              0.3333            0.3333           0.2667\n",
       "Detection Prevalence        0.3333            0.4000           0.2667\n",
       "Balanced Accuracy           1.0000            0.9500           0.9000"
      ]
     },
     "metadata": {},
     "output_type": "display_data"
    }
   ],
   "source": [
    "# Predict the test set\n",
    "predictions <- predict(modelCV, irisTest)\n",
    "\n",
    "# Check the accuracy of the model\n",
    "confusionMatrix(predictions, irisTest$Species)"
   ]
  },
  {
   "attachments": {},
   "cell_type": "markdown",
   "id": "d1cc6b9f",
   "metadata": {
    "papermill": {
     "duration": 0.003628,
     "end_time": "2023-01-21T11:45:09.229548",
     "exception": false,
     "start_time": "2023-01-21T11:45:09.225920",
     "status": "completed"
    },
    "tags": []
   },
   "source": [
    "The above code will show the confusion matrix, which is a table that can be used to define the performance of a classification algorithm.\n",
    "\n",
    "That's it! We've just used the caret package to perform k-fold cross-validation on a classification model. I hope you found this notebook helpful. Feel free to experiment with the code and customize it to suit your needs.\n"
   ]
  }
 ],
 "metadata": {
  "kernelspec": {
   "display_name": "Python 3",
   "language": "python",
   "name": "python3"
  },
  "language_info": {
   "codemirror_mode": {
    "name": "ipython",
    "version": 3
   },
   "file_extension": ".py",
   "mimetype": "text/x-python",
   "name": "python",
   "nbconvert_exporter": "python",
   "pygments_lexer": "ipython3",
   "version": "3.9.6"
  },
  "papermill": {
   "default_parameters": {},
   "duration": 8.576655,
   "end_time": "2023-01-21T11:45:09.353030",
   "environment_variables": {},
   "exception": null,
   "input_path": "__notebook__.ipynb",
   "output_path": "__notebook__.ipynb",
   "parameters": {},
   "start_time": "2023-01-21T11:45:00.776375",
   "version": "2.4.0"
  },
  "vscode": {
   "interpreter": {
    "hash": "31f2aee4e71d21fbe5cf8b01ff0e069b9275f58929596ceb00d14d90e3e16cd6"
   }
  }
 },
 "nbformat": 4,
 "nbformat_minor": 5
}
